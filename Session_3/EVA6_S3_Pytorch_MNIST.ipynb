{
  "nbformat": 4,
  "nbformat_minor": 0,
  "metadata": {
    "accelerator": "GPU",
    "colab": {
      "name": "EVA6_S3_Pytorch_MNIST.ipynb",
      "provenance": [],
      "collapsed_sections": []
    },
    "kernelspec": {
      "display_name": "Python 3",
      "name": "python3"
    },
    "language_info": {
      "name": "python"
    }
  },
  "cells": [
    {
      "cell_type": "markdown",
      "metadata": {
        "id": "lMFfiZlFeTn6"
      },
      "source": [
        "### MNIST digit and a Random Number Addition NN using Pytorch\n",
        "Assignment:\n",
        "\n",
        "Write a neural network that can:\n",
        "\n",
        "take 2 inputs:\n",
        "- an image from MNIST dataset, and\n",
        "- a random number between 0 and 9\n",
        "\n",
        "and gives two outputs:\n",
        "- the \"number\" that was represented by the MNIST image, and\n",
        "- the \"sum\" of this number with the random number that was generated and sent as the input to the network  \n"
      ]
    },
    {
      "cell_type": "markdown",
      "metadata": {
        "id": "yp2Yu_c0HWnD"
      },
      "source": [
        "Importing supporting libraries\n"
      ]
    },
    {
      "cell_type": "code",
      "metadata": {
        "id": "cXrOGmLUG6hV"
      },
      "source": [
        "import torch\n",
        "import torch.nn as nn\n",
        "import torch.nn.functional as F\n",
        "import torch.optim as optim\n",
        "import torchvision\n",
        "import torchvision.transforms as transforms\n",
        "from torch.utils.data import Dataset, TensorDataset\n",
        "from torch.utils.data import DataLoader\n",
        "import random\n",
        "import matplotlib.pyplot as plt\n",
        "% matplotlib inline\n",
        "import numpy as np"
      ],
      "execution_count": 41,
      "outputs": []
    },
    {
      "cell_type": "markdown",
      "metadata": {
        "id": "HFpiuq-FHwUq"
      },
      "source": [
        "Loading MNIST Dataset, which contains 28x28 px, 70,000 grayscale images of handwritten digits.\n"
      ]
    },
    {
      "cell_type": "code",
      "metadata": {
        "id": "hECwKsBZH2_Z"
      },
      "source": [
        "# We normalize both train and test dataset with the mean and std of the train dataset.\n",
        "# Training data transformations\n",
        "train_transforms = transforms.Compose([\n",
        "                                       transforms.ToTensor(),\n",
        "                                       transforms.Normalize((0.1307,), (0.3081,)) # Mean and Std Dev are used in tuples  \n",
        "                                       ])\n",
        "\n",
        "# Testing data transformations\n",
        "test_transforms = transforms.Compose([\n",
        "                                       transforms.ToTensor(),\n",
        "                                       transforms.Normalize((0.1307,), (0.3081,))\n",
        "                                       ])\n",
        "\n",
        "# Download and apply tranforms on the MNIST dataset using torchvision.datasets\n",
        "train_dataset = torchvision.datasets.MNIST('/tmp', train=True, download=True, transform=train_transforms)\n",
        "test_dataset = torchvision.datasets.MNIST('/tmp', train=False, download=True, transform=test_transforms)"
      ],
      "execution_count": 42,
      "outputs": []
    },
    {
      "cell_type": "markdown",
      "metadata": {
        "id": "eEjiYliSJvIV"
      },
      "source": [
        "Creating Custom dataset with MNIST dataset and Random Number\n"
      ]
    },
    {
      "cell_type": "code",
      "metadata": {
        "id": "T5xU_qOAHmQs"
      },
      "source": [
        "# Defining a Sequence for custom dataset\n",
        "class CustomMNISTDataset(Dataset):\n",
        "  def __init__(self, dataset):\n",
        "    self.dataset = dataset\n",
        "    #creating unique tensor representation for each digit\n",
        "    self.one_hot_encoding = torch.nn.functional.one_hot(torch.arange(0, 10))\n",
        "\n",
        "  def __getitem__(self, idx):\n",
        "    random_number = random.randint(0,9)\n",
        "    mnist_label = self.dataset[idx][1]\n",
        "  \n",
        "    #add actual mnist label and a random number to have ground truth sum\n",
        "    sum = mnist_label + random_number\n",
        "    return self.dataset[idx][0], mnist_label, self.one_hot_encoding[random_number], sum\n",
        "\n",
        "  def __len__(self):\n",
        "    return len(self.dataset)"
      ],
      "execution_count": 43,
      "outputs": []
    },
    {
      "cell_type": "code",
      "metadata": {
        "id": "gJFs_KVGKPKl"
      },
      "source": [
        "# Initializing custom datasets sequences\n",
        "train_custom_dataset = CustomMNISTDataset(train_dataset)\n",
        "test_custom_dataset = CustomMNISTDataset(test_dataset)"
      ],
      "execution_count": 44,
      "outputs": []
    },
    {
      "cell_type": "code",
      "metadata": {
        "id": "FbbXNrIiK82R"
      },
      "source": [
        "# Initialising Data Loader to get custom data in batches\n",
        "train_loader = DataLoader(train_custom_dataset,batch_size=256,shuffle=True)\n",
        "test_loader = DataLoader(test_custom_dataset,batch_size=256)"
      ],
      "execution_count": 45,
      "outputs": []
    },
    {
      "cell_type": "markdown",
      "metadata": {
        "id": "C8tWbWhSLL7R"
      },
      "source": [
        "Dataset Info\n",
        "\n",
        "\n"
      ]
    },
    {
      "cell_type": "code",
      "metadata": {
        "colab": {
          "base_uri": "https://localhost:8080/"
        },
        "id": "2EYRp3arLCIU",
        "outputId": "b16c020a-7e37-41fc-87f6-ad7af546694a"
      },
      "source": [
        "# Iterating to get first batch\n",
        "data_iter = iter(train_loader)\n",
        "images, labels, rnd_num, sums = data_iter.next()\n",
        "\n",
        "print('Batch Images: ', images.shape)\n",
        "print('Batch Labels: ', labels.shape)\n",
        "print('Batch Random Numbers: ', rnd_num.shape)\n",
        "print('Batch Sums: ', sums.shape)"
      ],
      "execution_count": 46,
      "outputs": [
        {
          "output_type": "stream",
          "text": [
            "Batch Images:  torch.Size([256, 1, 28, 28])\n",
            "Batch Labels:  torch.Size([256])\n",
            "Batch Random Numbers:  torch.Size([256, 10])\n",
            "Batch Sums:  torch.Size([256])\n"
          ],
          "name": "stdout"
        }
      ]
    },
    {
      "cell_type": "markdown",
      "metadata": {
        "id": "QOcaKvrtLw4Y"
      },
      "source": [
        "Defining the Model"
      ]
    },
    {
      "cell_type": "code",
      "metadata": {
        "id": "b14fFrznLgbe"
      },
      "source": [
        "class Net(nn.Module):\n",
        "    def __init__(self):\n",
        "        super(Net, self).__init__()\n",
        "        #Input: 28*28*1\n",
        "        self.conv1 = nn.Conv2d(1, 32, 3, padding=1)\n",
        "        #Input: 28*28*32      \n",
        "        self.conv2 = nn.Conv2d(32, 64, 3, padding=1)\n",
        "        #Input: 28*28*64        \n",
        "        self.pool1 = nn.MaxPool2d(2, 2)     \n",
        "        #Input: 14*14*64              \n",
        "        self.conv3 = nn.Conv2d(64, 128, 3, padding=1)\n",
        "        #Input: 14*14*128        \n",
        "        self.conv4 = nn.Conv2d(128, 256, 3, padding=1)\n",
        "        #Input: 14*14*256  \n",
        "        self.pool2 = nn.MaxPool2d(2, 2)   \n",
        "        #Input: 7*7*256                  \n",
        "        self.conv5 = nn.Conv2d(256, 256, 3)   \n",
        "        #Input: 5*5*256             \n",
        "        self.conv6 = nn.Conv2d(256, 512, 3) \n",
        "        #Input: 3*3*512                  \n",
        "        self.conv7 = nn.Conv2d(512, 10, 3)  \n",
        "\n",
        "        #Input: 1 * 1 * 10\n",
        "        #Merging MNIST model output with random number to train on custom data\n",
        "        self.fc1 = nn.Linear(10+10, 128)       \n",
        "        self.fc2 = nn.Linear(128, 19) # Sum output classes can be [0-18]\n",
        "\n",
        "    def forward(self, input, number):\n",
        "        # Acts as first convolution block\n",
        "        x = F.relu(self.conv2(F.relu(self.conv1(input))))\n",
        "        # Acts as first transition block\n",
        "        x = self.pool1(x)\n",
        "        # Acts as second convolution block\n",
        "        x = F.relu(self.conv4(F.relu(self.conv3(x))))\n",
        "        # Acts as second convolution block\n",
        "        x = self.pool2(x)\n",
        "        # Acts as third convolution block\n",
        "        x = F.relu(self.conv6(F.relu(self.conv5(x))))\n",
        "        # Acts as output convolution block\n",
        "        x = self.conv7(x)  \n",
        "        # Flatten the MNIST output \n",
        "        x = x.view(-1, 10)\n",
        "        # Concatenate number input to the MNIST output\n",
        "        x1 = torch.cat((x, number), dim=1)\n",
        "        # Fully connected Layer to train on combined data\n",
        "        x1 = F.relu(self.fc1(x1))  \n",
        "        x1 = self.fc2(x1)  \n",
        "\n",
        "        # return probability like predictions using softmax for both MNIST and combined data\n",
        "        return F.log_softmax(x, dim=1), F.log_softmax(x1, dim=1)"
      ],
      "execution_count": 47,
      "outputs": []
    },
    {
      "cell_type": "markdown",
      "metadata": {
        "id": "9sOWG_9vM-0E"
      },
      "source": [
        "Loading Model"
      ]
    },
    {
      "cell_type": "code",
      "metadata": {
        "colab": {
          "base_uri": "https://localhost:8080/"
        },
        "id": "Vrlm8pVtL-M5",
        "outputId": "206b82fc-574e-4059-fc30-718f62b475ae"
      },
      "source": [
        "# Loading model to the GPU device\n",
        "device = torch.device(\"cuda\")\n",
        "model = Net().to(device)\n",
        "model.eval()"
      ],
      "execution_count": 48,
      "outputs": [
        {
          "output_type": "execute_result",
          "data": {
            "text/plain": [
              "Net(\n",
              "  (conv1): Conv2d(1, 32, kernel_size=(3, 3), stride=(1, 1), padding=(1, 1))\n",
              "  (conv2): Conv2d(32, 64, kernel_size=(3, 3), stride=(1, 1), padding=(1, 1))\n",
              "  (pool1): MaxPool2d(kernel_size=2, stride=2, padding=0, dilation=1, ceil_mode=False)\n",
              "  (conv3): Conv2d(64, 128, kernel_size=(3, 3), stride=(1, 1), padding=(1, 1))\n",
              "  (conv4): Conv2d(128, 256, kernel_size=(3, 3), stride=(1, 1), padding=(1, 1))\n",
              "  (pool2): MaxPool2d(kernel_size=2, stride=2, padding=0, dilation=1, ceil_mode=False)\n",
              "  (conv5): Conv2d(256, 256, kernel_size=(3, 3), stride=(1, 1))\n",
              "  (conv6): Conv2d(256, 512, kernel_size=(3, 3), stride=(1, 1))\n",
              "  (conv7): Conv2d(512, 10, kernel_size=(3, 3), stride=(1, 1))\n",
              "  (fc1): Linear(in_features=20, out_features=128, bias=True)\n",
              "  (fc2): Linear(in_features=128, out_features=19, bias=True)\n",
              ")"
            ]
          },
          "metadata": {
            "tags": []
          },
          "execution_count": 48
        }
      ]
    },
    {
      "cell_type": "markdown",
      "metadata": {
        "id": "K9g1TyZcNMQt"
      },
      "source": [
        "Training Loop"
      ]
    },
    {
      "cell_type": "code",
      "metadata": {
        "id": "U6-GBrOYNIT_"
      },
      "source": [
        "def train(model, device, train_loader, optimizer, epoch):\n",
        "    # training model\n",
        "    model.train()\n",
        "    # initialising loss\n",
        "    epoch_loss = 0\n",
        "    correct_digit_pred_count = 0\n",
        "    correct_sum_pred_count = 0\n",
        "\n",
        "    # iterate dateset in batch using train_loader\n",
        "    for batch_idx, (img, label, random_number, sum) in enumerate(train_loader):\n",
        "\n",
        "        # fetch the ground truth data\n",
        "        gt_label = label.type(torch.LongTensor)\n",
        "        gt_sum = sum.type(torch.LongTensor)\n",
        "\n",
        "        # move gt data to GPU\n",
        "        img, gt_label, gt_sum = img.to(device), gt_label.to(device), gt_sum.to(device)\n",
        "        # zero out the gradients\n",
        "        optimizer.zero_grad()\n",
        "\n",
        "        # forward pass\n",
        "        output, sum_output = model(img,random_number.to(device))\n",
        "\n",
        "        # compute the loss occured\n",
        "        mnist_loss = F.nll_loss(output, gt_label)\n",
        "        addition_loss = F.nll_loss(sum_output, gt_sum)\n",
        "        loss= (mnist_loss + addition_loss)/2\n",
        "\n",
        "        epoch_loss += loss.item()\n",
        "\n",
        "        # compute the backward gradients\n",
        "        loss.backward()\n",
        "\n",
        "        # update the optimizer params\n",
        "        optimizer.step()\n",
        "\n",
        "        # get prediction output based on maximum softmax out\n",
        "        digit_pred = output.argmax(dim=1, keepdim=True)\n",
        "        sum_pred = sum_output.argmax(dim=1, keepdim=True)\n",
        "\n",
        "        correct_digit_pred_count += digit_pred.eq(gt_label.view_as(digit_pred)).sum().item()\n",
        "        correct_sum_pred_count += sum_pred.eq(gt_sum.view_as(sum_pred)).sum().item()\n",
        "\n",
        "    print(f'Train set: Average loss: {loss.item():.4f}, Total MNIST Correct: {correct_digit_pred_count}, Total Sum correct: {correct_sum_pred_count}')\n",
        "\n",
        "    train_loss = epoch_loss / len(train_loader)\n",
        "    return train_loss\n",
        "\n"
      ],
      "execution_count": 50,
      "outputs": []
    },
    {
      "cell_type": "markdown",
      "metadata": {
        "id": "ijI_8dpTNmUv"
      },
      "source": [
        "Testing Loop"
      ]
    },
    {
      "cell_type": "code",
      "metadata": {
        "id": "4Ay4AVrvNPJl"
      },
      "source": [
        "def test(model, device, test_loader):\n",
        "    # evaluation model\n",
        "    model.eval()\n",
        "    # initialising test loss\n",
        "    test_loss = 0\n",
        "    correct_digit_pred_count = 0\n",
        "    correct_sum_pred_count = 0\n",
        "\n",
        "    # stop gradients flow\n",
        "    with torch.no_grad():\n",
        "        for (img, label, random_number, sum) in test_loader:\n",
        "            gt_label = label.type(torch.LongTensor)\n",
        "            gt_sum = sum.type(torch.LongTensor)\n",
        "            img, gt_label, gt_sum = img.to(device), gt_label.to(device), gt_sum.to(device)\n",
        "\n",
        "            # forward pass\n",
        "            output, sum_output = model(img,random_number.to(device))\n",
        "            # average loss of both outputs\n",
        "            test_loss += (F.nll_loss(output, gt_label, reduction='sum').item() + F.nll_loss(sum_output, gt_sum, reduction='sum').item())/2\n",
        "\n",
        "            # get prediction output based on maximum softmax out\n",
        "            digit_pred = output.argmax(dim=1, keepdim=True)\n",
        "            sum_pred = sum_output.argmax(dim=1, keepdim=True)\n",
        "\n",
        "            correct_digit_pred_count += digit_pred.eq(gt_label.view_as(digit_pred)).sum().item()\n",
        "            correct_sum_pred_count += sum_pred.eq(gt_sum.view_as(sum_pred)).sum().item()\n",
        "\n",
        "    test_loss /= len(test_loader.dataset)\n",
        "    print(f'Test set: Average loss: {test_loss:.3f}, Digit Accuracy:{100. * correct_digit_pred_count/len(test_loader.dataset)}, Sum Accuracy:{100. * correct_sum_pred_count/len(test_loader.dataset)}')\n",
        "    return test_loss\n"
      ],
      "execution_count": 51,
      "outputs": []
    },
    {
      "cell_type": "markdown",
      "metadata": {
        "id": "J926BHeuPkaE"
      },
      "source": [
        "Train and Test the model"
      ]
    },
    {
      "cell_type": "code",
      "metadata": {
        "colab": {
          "base_uri": "https://localhost:8080/"
        },
        "id": "5CCsxnOKOA8m",
        "outputId": "318b6e0f-8289-4a63-b816-484b7e29a6ff"
      },
      "source": [
        "#Loading model to GPU\n",
        "model = Net().to(device)\n",
        "# using Stochastic Gradient Descent as the optimizer\n",
        "optimizer = optim.SGD(model.parameters(), lr=0.01, momentum=0.9)\n",
        "\n",
        "num_epoch = 10\n",
        "train_losses = []\n",
        "\n",
        "# Epoch loop\n",
        "for epoch in range(1, num_epoch+1):\n",
        "    print('\\nEpoch {} : '.format(epoch))\n",
        "    # train the model\n",
        "    train_loss = train(model, device, train_loader, optimizer, epoch)\n",
        "    train_losses.append(train_loss)\n"
      ],
      "execution_count": 52,
      "outputs": [
        {
          "output_type": "stream",
          "text": [
            "\n",
            "Epoch 1 : \n",
            "Train set: Average loss: 1.3325, Total MNIST Correct: 39040, Total Sum correct: 6212\n",
            "\n",
            "Epoch 2 : \n",
            "Train set: Average loss: 1.1670, Total MNIST Correct: 57675, Total Sum correct: 9732\n",
            "\n",
            "Epoch 3 : \n",
            "Train set: Average loss: 1.1285, Total MNIST Correct: 58730, Total Sum correct: 15928\n",
            "\n",
            "Epoch 4 : \n",
            "Train set: Average loss: 0.9991, Total MNIST Correct: 59090, Total Sum correct: 24950\n",
            "\n",
            "Epoch 5 : \n",
            "Train set: Average loss: 0.8109, Total MNIST Correct: 59286, Total Sum correct: 35291\n",
            "\n",
            "Epoch 6 : \n",
            "Train set: Average loss: 0.7275, Total MNIST Correct: 59414, Total Sum correct: 45081\n",
            "\n",
            "Epoch 7 : \n",
            "Train set: Average loss: 0.5712, Total MNIST Correct: 59489, Total Sum correct: 53196\n",
            "\n",
            "Epoch 8 : \n",
            "Train set: Average loss: 0.4247, Total MNIST Correct: 59581, Total Sum correct: 57117\n",
            "\n",
            "Epoch 9 : \n",
            "Train set: Average loss: 0.3327, Total MNIST Correct: 59647, Total Sum correct: 58794\n",
            "\n",
            "Epoch 10 : \n",
            "Train set: Average loss: 0.1851, Total MNIST Correct: 59709, Total Sum correct: 59371\n"
          ],
          "name": "stdout"
        }
      ]
    },
    {
      "cell_type": "code",
      "metadata": {
        "colab": {
          "base_uri": "https://localhost:8080/"
        },
        "id": "Adb9YvPVSPGa",
        "outputId": "3885c2b1-156c-443d-ae75-72555c0cde6b"
      },
      "source": [
        "#Evaluation on testing data\n",
        "test_loss = test(model, device, test_loader)"
      ],
      "execution_count": 53,
      "outputs": [
        {
          "output_type": "stream",
          "text": [
            "Test set: Average loss: 0.210, Digit Accuracy:99.23, Sum Accuracy:98.88\n"
          ],
          "name": "stdout"
        }
      ]
    },
    {
      "cell_type": "code",
      "metadata": {
        "id": "lsTdtLh2OH4f",
        "colab": {
          "base_uri": "https://localhost:8080/",
          "height": 445
        },
        "outputId": "8abe5d3d-3711-4a34-b2e6-f0144abff889"
      },
      "source": [
        "# Plotting loss curve\n",
        "plt.rcParams[\"figure.figsize\"] = (12,6)\n",
        "plt.plot(np.array(train_losses))\n",
        "plt.title(\"Training Loss\")\n",
        "plt.xlabel(\"Epoch\")\n",
        "plt.ylabel(\"Loss\")\n",
        "plt.legend()\n",
        "plt.show()"
      ],
      "execution_count": 54,
      "outputs": [
        {
          "output_type": "stream",
          "text": [
            "No handles with labels found to put in legend.\n"
          ],
          "name": "stderr"
        },
        {
          "output_type": "display_data",
          "data": {
            "image/png": "[encoded data removed]",
            "text/plain": [
              "<Figure size 864x432 with 1 Axes>"
            ]
          },
          "metadata": {
            "tags": [],
            "needs_background": "light"
          }
        }
      ]
    },
    {
      "cell_type": "markdown",
      "metadata": {
        "id": "mDe6qTF8Of3r"
      },
      "source": [
        "Inference"
      ]
    },
    {
      "cell_type": "code",
      "metadata": {
        "colab": {
          "base_uri": "https://localhost:8080/"
        },
        "id": "YrTquAT6q5YW",
        "outputId": "8df5365a-a9c5-403c-ec9a-4ead83b948db"
      },
      "source": [
        "test_image, test_label,_,_ = test_custom_dataset[434]\n",
        "test_number = random.randint(0,9)\n",
        "ohe = torch.nn.functional.one_hot(torch.arange(0, 10))\n",
        "# Model inference\n",
        "mnist_out, sum_out = model(test_image.unsqueeze(dim=1).to(device),ohe[test_number].reshape(-1,10).to(device))\n",
        "mnist_pred = mnist_out.argmax(dim=1, keepdim=True)\n",
        "sum_pred = sum_out.argmax(dim=1, keepdim=True)\n",
        "print(f'Random Number : {test_number}')\n",
        "print(f'MNIST Actual: {test_label}')\n",
        "print(f'MNIST Prediction: {mnist_pred.item()}')\n",
        "print(f'Sum: {test_number} + {mnist_pred.item()}')\n",
        "print(f'Sum Prediction = {sum_pred.item()}')"
      ],
      "execution_count": 74,
      "outputs": [
        {
          "output_type": "stream",
          "text": [
            "Random Number : 8\n",
            "MNIST Actual: 9\n",
            "MNIST Prediction: 9\n",
            "Sum: 8 + 9\n",
            "Sum Prediction = 17\n"
          ],
          "name": "stdout"
        }
      ]
    },
    {
      "cell_type": "code",
      "metadata": {
        "id": "6oRMRqvsz9GS"
      },
      "source": [
        ""
      ],
      "execution_count": null,
      "outputs": []
    }
  ]
}